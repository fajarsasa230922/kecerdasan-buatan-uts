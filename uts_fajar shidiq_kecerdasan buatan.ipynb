{
 "cells": [
  {
   "cell_type": "code",
   "execution_count": 1,
   "id": "df36f8f7-9452-4ca4-951b-481f63ac6d82",
   "metadata": {},
   "outputs": [],
   "source": [
    "# Data\n",
    "company_detail_list = [\n",
    "    {'name': 'Company 1', 'domain': 'Retail', 'country': 'United States'},\n",
    "    {'name': 'Company 2', 'domain': 'Technology', 'country': 'United Kingdom'},\n",
    "    {'name': 'Company 3', 'domain': 'Healthcare', 'country': 'United States'}\n",
    "]\n",
    "\n",
    "employee_detail_list = [\n",
    "    {'name': 'EMP-0001', 'first_name': 'John', 'last_name': 'Doe', 'full_name': 'John Doe', 'company': 'Company 1', 'nationality': 'Australia'},\n",
    "    {'name': 'EMP-0002', 'first_name': 'Tom', 'last_name': 'Smith', 'full_name': 'Tom Smith', 'company': 'Company 2', 'nationality': 'United States'},\n",
    "    {'name': 'EMP-0003', 'first_name': 'Andrew', 'last_name': 'Sebastian', 'full_name': 'Andrew Sebastian', 'company': 'Company 3', 'nationality': 'United States'},\n",
    "    {'name': 'EMP-0005', 'first_name': 'Ying Han', 'last_name': 'Tan', 'full_name': 'Ying Han Tan', 'company': 'Company 1', 'nationality': 'Australia'},\n",
    "    {'name': 'EMP-0015', 'first_name': 'Kenneth', 'last_name': 'Ng', 'full_name': 'Kenneth Ng', 'company': 'Company 3', 'nationality': 'United States'},\n",
    "    {'name': 'EMP-0018', 'first_name': 'Rubby', 'last_name': 'Lee', 'full_name': 'Rubby Lee', 'company': 'Company 2', 'nationality': 'Hong Kong'},\n",
    "    {'name': 'EMP-0017', 'first_name': 'Robert', 'last_name': 'White', 'full_name': 'Robert White', 'company': 'Company 1', 'nationality': 'United Kingdom'}\n",
    "]\n"
   ]
  },
  {
   "cell_type": "code",
   "execution_count": 2,
   "id": "c6d38c63-9816-4c07-a1cd-218b0a9f24da",
   "metadata": {},
   "outputs": [
    {
     "name": "stdout",
     "output_type": "stream",
     "text": [
      "[{'name': 'Company 3'}, {'name': 'Company 2'}, {'name': 'Company 1'}]\n"
     ]
    }
   ],
   "source": [
    "# Task 1\n",
    "def get_sorted_companies():\n",
    "    return sorted([{\"name\": company[\"name\"]} for company in company_detail_list], key=lambda x: x[\"name\"], reverse=True)\n",
    "# Testing the functions\n",
    "print(get_sorted_companies())"
   ]
  },
  {
   "cell_type": "code",
   "execution_count": 3,
   "id": "0d2e2a9c-fc1b-42d4-9468-812c66635184",
   "metadata": {},
   "outputs": [
    {
     "name": "stdout",
     "output_type": "stream",
     "text": [
      "Company 1: Retail (United States)\n",
      "Company 2: Technology (United Kingdom)\n",
      "Company 3: Healthcare (United States)\n",
      "None\n"
     ]
    }
   ],
   "source": [
    "# Task 2\n",
    "def print_company_domains():\n",
    "    for company in company_detail_list:\n",
    "        print(f\"{company['name']}: {company['domain']} ({company['country']})\")\n",
    "\n",
    "#Testing The Funcions\n",
    "print(print_company_domains())"
   ]
  },
  {
   "cell_type": "code",
   "execution_count": null,
   "id": "a84014f9-0986-474a-b993-03b386bc0cfe",
   "metadata": {},
   "outputs": [],
   "source": []
  },
  {
   "cell_type": "code",
   "execution_count": 4,
   "id": "e246ec8e-da58-4a4c-b41d-868e1bb704e8",
   "metadata": {},
   "outputs": [
    {
     "name": "stdout",
     "output_type": "stream",
     "text": [
      "{'Retail': ['John Doe', 'Ying Han Tan', 'Robert White'], 'Technology': ['Tom Smith', 'Rubby Lee'], 'Healthcare': ['Andrew Sebastian', 'Kenneth Ng']}\n"
     ]
    }
   ],
   "source": [
    "# Task 3\n",
    "def list_employees_by_domain():\n",
    "    employees_by_domain = {}\n",
    "    company_domains = {company['name']: company['domain'] for company in company_detail_list}\n",
    "    for employee in employee_detail_list:\n",
    "        domain = company_domains[employee['company']]\n",
    "        if domain not in employees_by_domain:\n",
    "            employees_by_domain[domain] = []\n",
    "        employees_by_domain[domain].append(employee['full_name'])\n",
    "    return employees_by_domain\n",
    "\n",
    "#Testing The Funcion\n",
    "print(list_employees_by_domain())"
   ]
  },
  {
   "cell_type": "code",
   "execution_count": 5,
   "id": "31580298-af82-48d6-b1f9-29f60acfe6c6",
   "metadata": {},
   "outputs": [
    {
     "name": "stdout",
     "output_type": "stream",
     "text": [
      "[{'full_name': 'John Doe', 'company': 'Company 1', 'country': 'United States'}, {'full_name': 'Tom Smith', 'company': 'Company 2', 'country': 'United Kingdom'}, {'full_name': 'Andrew Sebastian', 'company': 'Company 3', 'country': 'United States'}, {'full_name': 'Ying Han Tan', 'company': 'Company 1', 'country': 'United States'}, {'full_name': 'Kenneth Ng', 'company': 'Company 3', 'country': 'United States'}, {'full_name': 'Rubby Lee', 'company': 'Company 2', 'country': 'United Kingdom'}, {'full_name': 'Robert White', 'company': 'Company 1', 'country': 'United States'}]\n"
     ]
    }
   ],
   "source": [
    "# Task 4\n",
    "def employees_with_company_country():\n",
    "    company_countries = {company['name']: company['country'] for company in company_detail_list}\n",
    "    return [{\"full_name\": emp[\"full_name\"], \"company\": emp[\"company\"], \"country\": company_countries[emp[\"company\"]]} for emp in employee_detail_list]\n",
    "\n",
    "print( employees_with_company_country())"
   ]
  },
  {
   "cell_type": "code",
   "execution_count": 6,
   "id": "a891187c-1bc2-48ad-88e0-bbba497e48af",
   "metadata": {},
   "outputs": [
    {
     "name": "stdout",
     "output_type": "stream",
     "text": [
      "[{'company': 'Company 1', 'employee_nationality': {'Australia': 2, 'United Kingdom': 1}}, {'company': 'Company 2', 'employee_nationality': {'United States': 1, 'Hong Kong': 1}}, {'company': 'Company 3', 'employee_nationality': {'United States': 2}}]\n"
     ]
    }
   ],
   "source": [
    "# Task 5\n",
    "from collections import defaultdict\n",
    "\n",
    "def company_nationality_count():\n",
    "    nationality_count = defaultdict(lambda: defaultdict(int))\n",
    "    for emp in employee_detail_list:\n",
    "        nationality_count[emp['company']][emp['nationality']] += 1\n",
    "    return [{\"company\": company, \"employee_nationality\": dict(nationalities)} for company, nationalities in nationality_count.items()]\n",
    "\n",
    "print(     company_nationality_count())\n"
   ]
  },
  {
   "cell_type": "code",
   "execution_count": null,
   "id": "b8728a9b-a3db-4839-9d6c-29e18bb0891f",
   "metadata": {},
   "outputs": [],
   "source": []
  }
 ],
 "metadata": {
  "kernelspec": {
   "display_name": "Python 3 (ipykernel)",
   "language": "python",
   "name": "python3"
  },
  "language_info": {
   "codemirror_mode": {
    "name": "ipython",
    "version": 3
   },
   "file_extension": ".py",
   "mimetype": "text/x-python",
   "name": "python",
   "nbconvert_exporter": "python",
   "pygments_lexer": "ipython3",
   "version": "3.13.0"
  }
 },
 "nbformat": 4,
 "nbformat_minor": 5
}
